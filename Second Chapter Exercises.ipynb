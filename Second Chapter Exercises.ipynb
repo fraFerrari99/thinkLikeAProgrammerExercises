{
 "cells": [
  {
   "cell_type": "markdown",
   "id": "8adbb796",
   "metadata": {},
   "source": [
    "## This notebook is related to all the exercises of chapter 2 \"Pure Puzzles\". Hope u enjoy it!\n"
   ]
  },
  {
   "cell_type": "markdown",
   "id": "cd40398b",
   "metadata": {},
   "source": [
    "### First Exercise: Half of a Square\n",
    "#### Write a program that use only two output statements, print(\"#\") and print(\"\\n\") and produce a pattern of hash symbols like half of a perfect 5 x 5 square (or a right triangle),"
   ]
  },
  {
   "cell_type": "code",
   "execution_count": 24,
   "id": "d2c916bf",
   "metadata": {},
   "outputs": [
    {
     "name": "stdout",
     "output_type": "stream",
     "text": [
      "#####\n",
      "####\n",
      "###\n",
      "##\n",
      "#\n"
     ]
    }
   ],
   "source": [
    "def half_of_square():\n",
    "    for i in range(1,6):\n",
    "        #when i = 1, it needs to print 5#, when i = 2 ==> 4#, i = 3 => 3#, etc and this is equal to 6 - i\n",
    "        for j in range(0,6-i):  \n",
    "            print(\"#\",end=\"\")\n",
    "        print()\n",
    "        \n",
    "        \n",
    "\n",
    "\n",
    "half_of_square()"
   ]
  },
  {
   "cell_type": "markdown",
   "id": "c4f84f28",
   "metadata": {},
   "source": [
    "### Second Exercise: A Sideways Triangle\n",
    "#### Write a program that use only two output statements, print(\"#\") and print(\"\\n\") and produce a pattern of hash symbols shaped like a sideways triangle"
   ]
  },
  {
   "cell_type": "code",
   "execution_count": 37,
   "id": "5361fed1",
   "metadata": {},
   "outputs": [
    {
     "name": "stdout",
     "output_type": "stream",
     "text": [
      "#\n",
      "##\n",
      "###\n",
      "####\n",
      "###\n",
      "##\n",
      "#\n"
     ]
    }
   ],
   "source": [
    "def sideways_triangle():\n",
    "    for i in range(1,8):\n",
    "        for j in range(4,abs(4-i),-1):,\n",
    "            print(\"#\",end=\"\")\n",
    "        print()\n",
    "\n",
    "#it should print an hash triangle like this:\n",
    "#\n",
    "##\n",
    "###\n",
    "####\n",
    "###\n",
    "##\n",
    "#\n",
    "\n",
    "sideways_triangle()\n"
   ]
  },
  {
   "cell_type": "code",
   "execution_count": null,
   "id": "5fd77418",
   "metadata": {},
   "outputs": [],
   "source": []
  }
 ],
 "metadata": {
  "kernelspec": {
   "display_name": "Python 3",
   "language": "python",
   "name": "python3"
  },
  "language_info": {
   "codemirror_mode": {
    "name": "ipython",
    "version": 3
   },
   "file_extension": ".py",
   "mimetype": "text/x-python",
   "name": "python",
   "nbconvert_exporter": "python",
   "pygments_lexer": "ipython3",
   "version": "3.8.8"
  }
 },
 "nbformat": 4,
 "nbformat_minor": 5
}
